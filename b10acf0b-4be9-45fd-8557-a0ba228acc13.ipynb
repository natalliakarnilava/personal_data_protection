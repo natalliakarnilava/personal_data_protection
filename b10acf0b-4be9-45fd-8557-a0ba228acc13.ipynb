{
 "cells": [
  {
   "cell_type": "markdown",
   "metadata": {},
   "source": [
    "# Защита персональных данных клиентов"
   ]
  },
  {
   "cell_type": "markdown",
   "metadata": {},
   "source": [
    "Задача проекта -  защитить данные клиентов страховой компании «Хоть потоп».\n",
    "\n",
    "Цель - разработать такой метод преобразования данных, чтобы по ним было сложно восстановить персональную информацию. \n",
    "При этом нужно защитить данные так, чтобы при преобразовании качество модели (Линейная регрессия) машинного обучения не ухудшилось. "
   ]
  },
  {
   "cell_type": "markdown",
   "metadata": {
    "toc": true
   },
   "source": [
    "<h1>Содержание<span class=\"tocSkip\"></span></h1>\n",
    "<div class=\"toc\"><ul class=\"toc-item\"><li><span><a href=\"#Загрузка-данных\" data-toc-modified-id=\"Загрузка-данных-1\"><span class=\"toc-item-num\">1&nbsp;&nbsp;</span>Загрузка данных</a></span><ul class=\"toc-item\"><li><span><a href=\"#Вывод:\" data-toc-modified-id=\"Вывод:-1.1\"><span class=\"toc-item-num\">1.1&nbsp;&nbsp;</span>Вывод:</a></span></li></ul></li><li><span><a href=\"#Умножение-матриц\" data-toc-modified-id=\"Умножение-матриц-2\"><span class=\"toc-item-num\">2&nbsp;&nbsp;</span>Умножение матриц</a></span></li><li><span><a href=\"#Алгоритм-преобразования\" data-toc-modified-id=\"Алгоритм-преобразования-3\"><span class=\"toc-item-num\">3&nbsp;&nbsp;</span>Алгоритм преобразования</a></span></li><li><span><a href=\"#Проверка-алгоритма\" data-toc-modified-id=\"Проверка-алгоритма-4\"><span class=\"toc-item-num\">4&nbsp;&nbsp;</span>Проверка алгоритма</a></span></li><li><span><a href=\"#Чек-лист-проверки\" data-toc-modified-id=\"Чек-лист-проверки-5\"><span class=\"toc-item-num\">5&nbsp;&nbsp;</span>Чек-лист проверки</a></span></li></ul></div>"
   ]
  },
  {
   "cell_type": "markdown",
   "metadata": {},
   "source": [
    "## Загрузка данных"
   ]
  },
  {
   "cell_type": "markdown",
   "metadata": {},
   "source": [
    "Выполним импорт библиотек, необходимых для выполнения кода:"
   ]
  },
  {
   "cell_type": "code",
   "execution_count": 1,
   "metadata": {},
   "outputs": [],
   "source": [
    "import pandas as pd\n",
    "import matplotlib.pyplot as plt\n",
    "import seaborn as sns\n",
    "import numpy as np\n",
    "from sklearn.linear_model import LinearRegression\n",
    "from sklearn.model_selection import train_test_split\n",
    "from sklearn.metrics import r2_score\n",
    "from sklearn.preprocessing import StandardScaler"
   ]
  },
  {
   "cell_type": "markdown",
   "metadata": {},
   "source": [
    "Сохраним данные из csv-файла в переменной data:"
   ]
  },
  {
   "cell_type": "code",
   "execution_count": 2,
   "metadata": {},
   "outputs": [],
   "source": [
    "data = pd.read_csv('https://raw.githubusercontent.com/natalliakarnilava/personal_data_protection/main/insurance.csv')\n"
   ]
  },
  {
   "cell_type": "markdown",
   "metadata": {},
   "source": [
    "Выведем на экран первые строчки датасета:"
   ]
  },
  {
   "cell_type": "code",
   "execution_count": 3,
   "metadata": {},
   "outputs": [
    {
     "data": {
      "text/html": [
       "<div>\n",
       "<style scoped>\n",
       "    .dataframe tbody tr th:only-of-type {\n",
       "        vertical-align: middle;\n",
       "    }\n",
       "\n",
       "    .dataframe tbody tr th {\n",
       "        vertical-align: top;\n",
       "    }\n",
       "\n",
       "    .dataframe thead th {\n",
       "        text-align: right;\n",
       "    }\n",
       "</style>\n",
       "<table border=\"1\" class=\"dataframe\">\n",
       "  <thead>\n",
       "    <tr style=\"text-align: right;\">\n",
       "      <th></th>\n",
       "      <th>Пол</th>\n",
       "      <th>Возраст</th>\n",
       "      <th>Зарплата</th>\n",
       "      <th>Члены семьи</th>\n",
       "      <th>Страховые выплаты</th>\n",
       "    </tr>\n",
       "  </thead>\n",
       "  <tbody>\n",
       "    <tr>\n",
       "      <th>0</th>\n",
       "      <td>1</td>\n",
       "      <td>41.0</td>\n",
       "      <td>49600.0</td>\n",
       "      <td>1</td>\n",
       "      <td>0</td>\n",
       "    </tr>\n",
       "    <tr>\n",
       "      <th>1</th>\n",
       "      <td>0</td>\n",
       "      <td>46.0</td>\n",
       "      <td>38000.0</td>\n",
       "      <td>1</td>\n",
       "      <td>1</td>\n",
       "    </tr>\n",
       "    <tr>\n",
       "      <th>2</th>\n",
       "      <td>0</td>\n",
       "      <td>29.0</td>\n",
       "      <td>21000.0</td>\n",
       "      <td>0</td>\n",
       "      <td>0</td>\n",
       "    </tr>\n",
       "    <tr>\n",
       "      <th>3</th>\n",
       "      <td>0</td>\n",
       "      <td>21.0</td>\n",
       "      <td>41700.0</td>\n",
       "      <td>2</td>\n",
       "      <td>0</td>\n",
       "    </tr>\n",
       "    <tr>\n",
       "      <th>4</th>\n",
       "      <td>1</td>\n",
       "      <td>28.0</td>\n",
       "      <td>26100.0</td>\n",
       "      <td>0</td>\n",
       "      <td>0</td>\n",
       "    </tr>\n",
       "  </tbody>\n",
       "</table>\n",
       "</div>"
      ],
      "text/plain": [
       "   Пол  Возраст  Зарплата  Члены семьи  Страховые выплаты\n",
       "0    1     41.0   49600.0            1                  0\n",
       "1    0     46.0   38000.0            1                  1\n",
       "2    0     29.0   21000.0            0                  0\n",
       "3    0     21.0   41700.0            2                  0\n",
       "4    1     28.0   26100.0            0                  0"
      ]
     },
     "execution_count": 3,
     "metadata": {},
     "output_type": "execute_result"
    }
   ],
   "source": [
    "data.head()"
   ]
  },
  {
   "cell_type": "markdown",
   "metadata": {},
   "source": [
    "Выведем более подробную информацию о таблице при помощи методов: info() и describe():"
   ]
  },
  {
   "cell_type": "code",
   "execution_count": 4,
   "metadata": {
    "scrolled": true
   },
   "outputs": [
    {
     "name": "stdout",
     "output_type": "stream",
     "text": [
      "<class 'pandas.core.frame.DataFrame'>\n",
      "RangeIndex: 5000 entries, 0 to 4999\n",
      "Data columns (total 5 columns):\n",
      " #   Column             Non-Null Count  Dtype  \n",
      "---  ------             --------------  -----  \n",
      " 0   Пол                5000 non-null   int64  \n",
      " 1   Возраст            5000 non-null   float64\n",
      " 2   Зарплата           5000 non-null   float64\n",
      " 3   Члены семьи        5000 non-null   int64  \n",
      " 4   Страховые выплаты  5000 non-null   int64  \n",
      "dtypes: float64(2), int64(3)\n",
      "memory usage: 195.4 KB\n"
     ]
    }
   ],
   "source": [
    "data.info()"
   ]
  },
  {
   "cell_type": "markdown",
   "metadata": {},
   "source": [
    "В датасете 5000 записей, нет пропусков, тип данных для каждого из столбцов соответствует содержанию. "
   ]
  },
  {
   "cell_type": "code",
   "execution_count": 5,
   "metadata": {},
   "outputs": [
    {
     "data": {
      "text/html": [
       "<div>\n",
       "<style scoped>\n",
       "    .dataframe tbody tr th:only-of-type {\n",
       "        vertical-align: middle;\n",
       "    }\n",
       "\n",
       "    .dataframe tbody tr th {\n",
       "        vertical-align: top;\n",
       "    }\n",
       "\n",
       "    .dataframe thead th {\n",
       "        text-align: right;\n",
       "    }\n",
       "</style>\n",
       "<table border=\"1\" class=\"dataframe\">\n",
       "  <thead>\n",
       "    <tr style=\"text-align: right;\">\n",
       "      <th></th>\n",
       "      <th>Пол</th>\n",
       "      <th>Возраст</th>\n",
       "      <th>Зарплата</th>\n",
       "      <th>Члены семьи</th>\n",
       "      <th>Страховые выплаты</th>\n",
       "    </tr>\n",
       "  </thead>\n",
       "  <tbody>\n",
       "    <tr>\n",
       "      <th>count</th>\n",
       "      <td>5000.000000</td>\n",
       "      <td>5000.000000</td>\n",
       "      <td>5000.000000</td>\n",
       "      <td>5000.000000</td>\n",
       "      <td>5000.000000</td>\n",
       "    </tr>\n",
       "    <tr>\n",
       "      <th>mean</th>\n",
       "      <td>0.499000</td>\n",
       "      <td>30.952800</td>\n",
       "      <td>39916.360000</td>\n",
       "      <td>1.194200</td>\n",
       "      <td>0.148000</td>\n",
       "    </tr>\n",
       "    <tr>\n",
       "      <th>std</th>\n",
       "      <td>0.500049</td>\n",
       "      <td>8.440807</td>\n",
       "      <td>9900.083569</td>\n",
       "      <td>1.091387</td>\n",
       "      <td>0.463183</td>\n",
       "    </tr>\n",
       "    <tr>\n",
       "      <th>min</th>\n",
       "      <td>0.000000</td>\n",
       "      <td>18.000000</td>\n",
       "      <td>5300.000000</td>\n",
       "      <td>0.000000</td>\n",
       "      <td>0.000000</td>\n",
       "    </tr>\n",
       "    <tr>\n",
       "      <th>25%</th>\n",
       "      <td>0.000000</td>\n",
       "      <td>24.000000</td>\n",
       "      <td>33300.000000</td>\n",
       "      <td>0.000000</td>\n",
       "      <td>0.000000</td>\n",
       "    </tr>\n",
       "    <tr>\n",
       "      <th>50%</th>\n",
       "      <td>0.000000</td>\n",
       "      <td>30.000000</td>\n",
       "      <td>40200.000000</td>\n",
       "      <td>1.000000</td>\n",
       "      <td>0.000000</td>\n",
       "    </tr>\n",
       "    <tr>\n",
       "      <th>75%</th>\n",
       "      <td>1.000000</td>\n",
       "      <td>37.000000</td>\n",
       "      <td>46600.000000</td>\n",
       "      <td>2.000000</td>\n",
       "      <td>0.000000</td>\n",
       "    </tr>\n",
       "    <tr>\n",
       "      <th>max</th>\n",
       "      <td>1.000000</td>\n",
       "      <td>65.000000</td>\n",
       "      <td>79000.000000</td>\n",
       "      <td>6.000000</td>\n",
       "      <td>5.000000</td>\n",
       "    </tr>\n",
       "  </tbody>\n",
       "</table>\n",
       "</div>"
      ],
      "text/plain": [
       "               Пол      Возраст      Зарплата  Члены семьи  Страховые выплаты\n",
       "count  5000.000000  5000.000000   5000.000000  5000.000000        5000.000000\n",
       "mean      0.499000    30.952800  39916.360000     1.194200           0.148000\n",
       "std       0.500049     8.440807   9900.083569     1.091387           0.463183\n",
       "min       0.000000    18.000000   5300.000000     0.000000           0.000000\n",
       "25%       0.000000    24.000000  33300.000000     0.000000           0.000000\n",
       "50%       0.000000    30.000000  40200.000000     1.000000           0.000000\n",
       "75%       1.000000    37.000000  46600.000000     2.000000           0.000000\n",
       "max       1.000000    65.000000  79000.000000     6.000000           5.000000"
      ]
     },
     "execution_count": 5,
     "metadata": {},
     "output_type": "execute_result"
    }
   ],
   "source": [
    "data.describe(include='all')"
   ]
  },
  {
   "cell_type": "markdown",
   "metadata": {},
   "source": [
    "Изучим корреляцию признаков. Для этого с помощью библиотеки seaborn построим график heatmap, который будет отображать коэффициент корреляции между признаками:"
   ]
  },
  {
   "cell_type": "code",
   "execution_count": 6,
   "metadata": {},
   "outputs": [
    {
     "data": {
      "text/plain": [
       "<AxesSubplot:>"
      ]
     },
     "execution_count": 6,
     "metadata": {},
     "output_type": "execute_result"
    },
    {
     "data": {
      "image/png": "[encoded data removed]",
      "text/plain": [
       "<Figure size 576x576 with 2 Axes>"
      ]
     },
     "metadata": {
      "needs_background": "light"
     },
     "output_type": "display_data"
    }
   ],
   "source": [
    "plt.figure(figsize=(8, 8))\n",
    "sns.set(font_scale=1)\n",
    "sns.heatmap(data.corr(), annot = True, fmt='.2g', cmap= 'Blues', annot_kws={\"fontsize\":10}, cbar_kws={\"shrink\": .8})"
   ]
  },
  {
   "cell_type": "markdown",
   "metadata": {},
   "source": [
    "<div class=\"alert alert-warning\">\n",
    "    <h2> Комментарий ревьюера v2<a class=\"tocSkip\"> </h2>\n",
    "<hr>    \n",
    "<b>Совет💡:</b> Чтобы не выводить над графиком лишнюю информацию, используй <code>show</code> из <code>matplotlib.pyplot</code> или <code>;</code>. <code>;</code> позволяет исключить неявное применение функции <code>display</code> для последней строки в ячейке.\n",
    "        \n",
    "Хорошо бы график тоже с заголовком выводить.\n",
    "</div></div>"
   ]
  },
  {
   "cell_type": "markdown",
   "metadata": {},
   "source": [
    "Как видим, есть зависимость между признаками \"Страховые выплаты\" и \"Возраст\". Величина коэффициента корреляции равна 0.65, что свидетельствует о заметной корреляции."
   ]
  },
  {
   "cell_type": "markdown",
   "metadata": {},
   "source": [
    "Для наглядного отображения данных из таблицы, полученной методом describe(), построим гистограммы часто для каждого из столбцов:"
   ]
  },
  {
   "cell_type": "code",
   "execution_count": 7,
   "metadata": {},
   "outputs": [
    {
     "data": {
      "image/png": "[encoded data removed]",
      "text/plain": [
       "<Figure size 360x360 with 1 Axes>"
      ]
     },
     "metadata": {},
     "output_type": "display_data"
    },
    {
     "data": {
      "image/png": "[encoded data removed]",
      "text/plain": [
       "<Figure size 360x360 with 1 Axes>"
      ]
     },
     "metadata": {},
     "output_type": "display_data"
    },
    {
     "data": {
      "image/png": "[encoded data removed]",
      "text/plain": [
       "<Figure size 360x360 with 1 Axes>"
      ]
     },
     "metadata": {},
     "output_type": "display_data"
    },
    {
     "data": {
      "image/png": "[encoded data removed]",
      "text/plain": [
       "<Figure size 360x360 with 1 Axes>"
      ]
     },
     "metadata": {},
     "output_type": "display_data"
    },
    {
     "data": {
      "image/png": "[encoded data removed]",
      "text/plain": [
       "<Figure size 360x360 with 1 Axes>"
      ]
     },
     "metadata": {},
     "output_type": "display_data"
    }
   ],
   "source": [
    "columns = data.columns\n",
    "for column in columns:\n",
    "    data[column].plot(kind='hist',figsize=(5,5), grid=True, legend=True, title=f'Гистограмма частот для \"{column}\"')\n",
    "    plt.show()"
   ]
  },
  {
   "cell_type": "code",
   "execution_count": 8,
   "metadata": {},
   "outputs": [
    {
     "data": {
      "text/plain": [
       "0    0.8872\n",
       "1    0.0846\n",
       "2    0.0230\n",
       "3    0.0036\n",
       "4    0.0014\n",
       "5    0.0002\n",
       "Name: Страховые выплаты, dtype: float64"
      ]
     },
     "execution_count": 8,
     "metadata": {},
     "output_type": "execute_result"
    }
   ],
   "source": [
    "data['Страховые выплаты'].value_counts(normalize=True)"
   ]
  },
  {
   "cell_type": "markdown",
   "metadata": {},
   "source": [
    "### Вывод:\n",
    "* В столбце \"Пол\" содержится 2 значения - 0 и 1. Их количество сопоставимо. \n",
    "\n",
    "\n",
    "* В столбце \"Возраст\" данные распределены со смещением. Значение возраста находится в промежутке от 18 до 65 лет. Минимальное значение обусловено тем, что страховая компания может заключить договор только с совершеннолетним человеком. Половина значений находится в промежутке от 24 до 37 лет. Значение медианы - 30 лет. Максимальное значение в 65 лет, вероятно, обусловлено политикой страховой компании (свыше 65 лет риск выплаты страхового возмещения неприемлемо высок). Это  подтверждается выявленным значением корреляции между признаками \"Страховые выплаты\" и \"Возраст\" - 0.65 (заметная корреляция). \n",
    "\n",
    "\n",
    "* В столбце \"Зарплата\" данные распределены нормально. Значения находятся в диапазоне от 5300 до 79000. Медианна равна 40200.\n",
    "\n",
    "\n",
    "* В столбце \"Члены семьи\" значения находятся в диапазоне от 0 до 6. Вероятно, значение 0 означает, что человек не женат/ не замужем, 1 - женат/замужем и без детей, 2 - женат/замужем и с 1 ребенком и т.д. Половина значений находится в диапазоне от 0 до 2, значение равное 6 - является выбросом. Медиана равна 1. \n",
    "\n",
    "\n",
    "* В столбце \"Страховые выплаты\" указано количество страховых выплат клиенту за последние 5 лет. Значения столбца находятся в диапазоне от 0 до 5. 88% всех клиентов не получает ни одной выплаты в течение 5 лет. Порядка 3% клиентов 2 и более выплат в течение 5 лет. "
   ]
  },
  {
   "cell_type": "markdown",
   "metadata": {},
   "source": [
    "## Умножение матриц"
   ]
  },
  {
   "cell_type": "markdown",
   "metadata": {},
   "source": [
    "В этом задании вы можете записывать формулы в *Jupyter Notebook.*\n",
    "\n",
    "Чтобы записать формулу внутри текста, окружите её символами доллара \\\\$; если снаружи —  двойными символами \\\\$\\\\$. Эти формулы записываются на языке вёрстки *LaTeX.* \n",
    "\n",
    "Для примера мы записали формулы линейной регрессии. Можете их скопировать и отредактировать, чтобы решить задачу.\n",
    "\n",
    "Работать в *LaTeX* необязательно."
   ]
  },
  {
   "cell_type": "markdown",
   "metadata": {},
   "source": [
    "Обозначения:\n",
    "\n",
    "- $X$ — матрица признаков (нулевой столбец состоит из единиц)\n",
    "\n",
    "- $y$ — вектор целевого признака\n",
    "\n",
    "- $P$ — матрица, на которую умножаются признаки\n",
    "\n",
    "- $w$ — вектор весов линейной регрессии (нулевой элемент равен сдвигу)"
   ]
  },
  {
   "cell_type": "markdown",
   "metadata": {},
   "source": [
    "Предсказания:\n",
    "\n",
    "$$\n",
    "a = Xw\n",
    "$$\n",
    "\n",
    "Задача обучения:\n",
    "\n",
    "$$\n",
    "w = \\arg\\min_w MSE(Xw, y)\n",
    "$$\n",
    "\n",
    "Формула обучения:\n",
    "\n",
    "$$\n",
    "w = (X^T X)^{-1} X^T y\n",
    "$$"
   ]
  },
  {
   "cell_type": "markdown",
   "metadata": {},
   "source": [
    "**Признаки умножают на обратимую матрицу. Изменится ли качество линейной регрессии? (Её можно обучить заново.)**\n",
    "\n",
    "**Ответ:** **b. Не изменится.** \n",
    "\n",
    "**Обоснование:** \n",
    "Докажем, что качаство модели не изменится.\n",
    "\n",
    "Из условия задачи мы имеем матрицу признаков X и вектор весов w, вектор целевого признака y. Тогда вектор предсказаний а равен:\n",
    "\n",
    "$$\n",
    "a = Xw\n",
    "$$\n",
    "\n",
    "Согласно формуле обучения, вектор весов w можно выразить следующим образом:\n",
    "\n",
    "$$\n",
    "w = (X^T X)^{-1} X^T y        \n",
    "$$\n",
    "\n",
    "Пусть С - новая матрица, полученная в результате умножения матрицы Х на обратимую (а значит квадратную) матрицу Р:\n",
    "$$\n",
    "C = XP\n",
    "$$\n",
    "\n",
    "Тогда по формуле обучения новый вектор весов w1 будет равен:\n",
    "\n",
    "$$\n",
    "w_1 = (C^{T}C)^{-1}C^{T}y\n",
    "$$\n"
   ]
  },
  {
   "cell_type": "markdown",
   "metadata": {},
   "source": [
    "Разобьем это выражение на две части:\n",
    "\n",
    "(1) \n",
    "$(C^{T}C)^{-1}$\n",
    "\n",
    "(2) $C^{T}y$"
   ]
  },
  {
   "cell_type": "markdown",
   "metadata": {},
   "source": [
    "(1) Согласно свойствам транспонирования матриц:\n",
    "\n",
    "$$\n",
    "(C^{T}C)^{-1} = ((XP)^{T}(XP))^{-1} = (P^{T}(X^{T}X)P)^{-1}\n",
    "$$\n",
    "\n",
    "Согласно свойствам обратной матрицы:\n",
    "\n",
    "$$\n",
    "(P^{T}(X^{T}X)P)^{-1} = P^{-1}(X^{T}X)^{-1}(P^{T})^{-1}\n",
    "$$"
   ]
  },
  {
   "cell_type": "markdown",
   "metadata": {},
   "source": [
    "(2) Согласно свойствам транспонирования матриц:\n",
    "\n",
    "$$\n",
    "C^{T}y = (XP)^{T}y = P^{T}X^{T}y\n",
    "$$"
   ]
  },
  {
   "cell_type": "markdown",
   "metadata": {},
   "source": [
    "Из (1) и (2) получаем:\n",
    "\n",
    "$$\n",
    "w_1 = (C^{T}C)^{-1}C^{T}y = \n",
    "$$\n",
    "$$\n",
    "$$\n",
    "$$\n",
    "=  P^{-1}(X^{T}X)^{-1}(P^{T})^{-1}P^{T}X^{T}y = \n",
    "$$\n",
    "$$\n",
    "$$\n",
    "$$\n",
    "= P^{-1}(X^{T}X)^{-1}EX^{T}y = \n",
    "$$\n",
    "$$\n",
    "$$\n",
    "$$\n",
    "= P^{-1}(X^{T}X)^{-1}X^{T}y = \n",
    "$$\n",
    "$$\n",
    "$$\n",
    "$$\n",
    "= P^{-1}((X^{T}X)^{-1}X^{T})y = \n",
    "$$\n",
    "$$\n",
    "$$\n",
    "$$\n",
    "= P^{-1}w\n",
    "$$"
   ]
  },
  {
   "cell_type": "markdown",
   "metadata": {},
   "source": [
    "Тогда новый вектор предсказаний a1 будет равен:\n",
    "\n",
    "$$\n",
    "a_1 = Cw_1 = (XP)(P^{-1}w) = XPP^{-1}w = XEw = Xw = a\n",
    "$$"
   ]
  },
  {
   "cell_type": "markdown",
   "metadata": {},
   "source": [
    "Таким образом, при умножении матрицы Х на обратимую матрицу Р получим вектор предсказаний а1 равный а. \n",
    "\n",
    "Следовательно, качество модели останется прежним.\n",
    "\n",
    "Что и требовалось доказать."
   ]
  },
  {
   "cell_type": "markdown",
   "metadata": {},
   "source": [
    "## Алгоритм преобразования"
   ]
  },
  {
   "cell_type": "markdown",
   "metadata": {},
   "source": [
    "**Алгоритм**\n",
    "\n"
   ]
  },
  {
   "cell_type": "code",
   "execution_count": 9,
   "metadata": {},
   "outputs": [],
   "source": [
    "class DataReaderEncrypter():\n",
    "    \n",
    "    def read(self, path):\n",
    "        data = pd.read_csv(path)\n",
    "        target = data['Страховые выплаты']\n",
    "        data = data.drop('Страховые выплаты', axis = 1)\n",
    "        columns = data.columns\n",
    "        inversible_matrix = np.zeros(shape = (len(data.columns), len(data.columns)))\n",
    "        invert_exsist = True\n",
    "        while invert_exsist:\n",
    "            try:\n",
    "                inversible_matrix = np.random.normal(size=(len(data.columns), len(data.columns)))\n",
    "                np.linalg.inv(inversible_matrix)\n",
    "                invert_exsist = False\n",
    "            except:\n",
    "                invert_exsist = True\n",
    "                \n",
    "                    \n",
    "        data = data.values @ inversible_matrix\n",
    "        data = pd.DataFrame(data=data, columns = columns)\n",
    "        data['Страховые выплаты'] = target\n",
    "        \n",
    "        return data        "
   ]
  },
  {
   "cell_type": "markdown",
   "metadata": {},
   "source": [
    "**Обоснование**\n",
    "Нам нужно защитить данные так, чтобы работа моделей машинного обучения не ухудшилась, при этом нельзя было понять, какими были изначальные данные. \n",
    "С помощью алгоритма мы сможем получить таблицу, которая не будет иметь ничего общего с изначальной, данные не будут автоматически считываться (как например, пол).  Их значения будут как отрицательными, так и положительными, как целыми, так и с дробной частью. Это достигается при помощи матричного умножения значений таблицы на случайную матрицу.  Именно работа со случайно созданной матрицей позволит нам быть уверенными, что данные не восстановят, так как \"ключ\" от шифрования нигде не будет хранится. А сам принцип матричного умножения позволит нам уйти от простейших зависимостей новых значений от старых (например, как умножение на какой-то коэффициент всех значений).\n",
    "\n",
    "\n",
    "Алгоритм преобразования - это создание объекта класса DataReaderEncrypter, метод read() которого принимает путь к исходному csv-файлу, а возвращает таблицу с измененными признаками. \n",
    "Ранее мы доказали, что при умножении исходных признаков на обратимую матрицу качество модели не изменится. Поэтому в методе 'read' мы генерируем случайную квадратную матрицу с размерностью nxn, где n - количество признаков. Так есть небольшая вероятность того, что созданная случайным образом матрица не будет иметь обратной, то мы осуществляем проверку наличия обратной матрицы. И только убедившись в том, что такая существует - умножаем исходные признаки на сгенерированную матрицу."
   ]
  },
  {
   "cell_type": "markdown",
   "metadata": {},
   "source": [
    "## Проверка алгоритма"
   ]
  },
  {
   "cell_type": "markdown",
   "metadata": {},
   "source": [
    "Создадим функцию check_r2(data), которая будет принимать таблицу, а возвращать значение метрики R2, округленное до 10 знаков после запятой. Внутри метода будет создаваться и обучаться модель линейной регрессии, а также производиться масштабирование признаков с помощью StandardScaler():"
   ]
  },
  {
   "cell_type": "code",
   "execution_count": 10,
   "metadata": {},
   "outputs": [],
   "source": [
    "def check_r2(data):\n",
    "    features = data.drop('Страховые выплаты', axis = 1)\n",
    "    target = data['Страховые выплаты']\n",
    "    features_train, features_test, target_train, target_test = train_test_split(features, target, test_size=0.25, random_state=12345)\n",
    "    scaler = StandardScaler()\n",
    "    scaler.fit(features_train)\n",
    "    features_train = scaler.transform(features_train)\n",
    "    features_test = scaler.transform(features_test)\n",
    "    model = LinearRegression()\n",
    "    model.fit(features_train, target_train)\n",
    "    predictions = model.predict(features_test)\n",
    "    r2 = r2_score(target_test, predictions, multioutput='variance_weighted')\n",
    "    return round(r2, 10)\n",
    "    "
   ]
  },
  {
   "cell_type": "markdown",
   "metadata": {},
   "source": [
    "Сохраним датасет в переменную encrypted_data, используя класс DataReaderEncrypter() и его метод read():"
   ]
  },
  {
   "cell_type": "code",
   "execution_count": 12,
   "metadata": {
    "scrolled": false
   },
   "outputs": [],
   "source": [
    "dre = DataReaderEncrypter()\n",
    "encrypted_data = dre.read('https://raw.githubusercontent.com/natalliakarnilava/personal_data_protection/main/insurance.csv')\n"
   ]
  },
  {
   "cell_type": "markdown",
   "metadata": {},
   "source": [
    "Проверим равенство метрик: "
   ]
  },
  {
   "cell_type": "code",
   "execution_count": 13,
   "metadata": {},
   "outputs": [
    {
     "name": "stdout",
     "output_type": "stream",
     "text": [
      "True\n"
     ]
    }
   ],
   "source": [
    "print(check_r2(data)==check_r2(encrypted_data))"
   ]
  },
  {
   "cell_type": "markdown",
   "metadata": {},
   "source": [
    "<div class=\"alert alert-warning\">\n",
    "    <h2> Комментарий ревьюера v2<a class=\"tocSkip\"> </h2>\n",
    "<hr>    \n",
    "<b>Совет💡:</b> Можно ещё небольшое заключение в контексте задачи написать.\n",
    "</div></div>"
   ]
  }
 ],
 "metadata": {
  "ExecuteTimeLog": [
   {
    "duration": 533,
    "start_time": "2022-04-26T12:14:26.583Z"
   },
   {
    "duration": 32,
    "start_time": "2022-04-26T12:14:44.446Z"
   },
   {
    "duration": 17,
    "start_time": "2022-04-26T12:14:49.943Z"
   },
   {
    "duration": 43,
    "start_time": "2022-04-26T12:15:07.084Z"
   },
   {
    "duration": 99,
    "start_time": "2022-04-26T12:17:39.657Z"
   },
   {
    "duration": 86765,
    "start_time": "2022-04-26T12:18:42.513Z"
   },
   {
    "duration": 2,
    "start_time": "2022-04-26T12:22:38.590Z"
   },
   {
    "duration": 18,
    "start_time": "2022-04-26T12:22:41.207Z"
   },
   {
    "duration": 11,
    "start_time": "2022-04-26T12:22:42.861Z"
   },
   {
    "duration": 22,
    "start_time": "2022-04-26T12:22:44.936Z"
   },
   {
    "duration": 172,
    "start_time": "2022-04-26T12:22:47.228Z"
   },
   {
    "duration": 127,
    "start_time": "2022-04-26T12:23:16.730Z"
   },
   {
    "duration": 2,
    "start_time": "2022-04-26T12:24:39.997Z"
   },
   {
    "duration": 2,
    "start_time": "2022-04-26T12:24:49.364Z"
   },
   {
    "duration": 23,
    "start_time": "2022-04-26T12:24:49.368Z"
   },
   {
    "duration": 10,
    "start_time": "2022-04-26T12:24:49.393Z"
   },
   {
    "duration": 25,
    "start_time": "2022-04-26T12:24:49.406Z"
   },
   {
    "duration": 539,
    "start_time": "2022-04-26T12:24:49.433Z"
   },
   {
    "duration": 511,
    "start_time": "2022-04-26T12:25:36.530Z"
   },
   {
    "duration": 503,
    "start_time": "2022-04-26T12:25:53.290Z"
   },
   {
    "duration": 10,
    "start_time": "2022-04-26T12:26:21.019Z"
   },
   {
    "duration": 2331,
    "start_time": "2022-04-27T20:26:30.418Z"
   },
   {
    "duration": 5,
    "start_time": "2022-04-27T20:26:40.356Z"
   },
   {
    "duration": 20,
    "start_time": "2022-04-27T20:26:40.364Z"
   },
   {
    "duration": 20,
    "start_time": "2022-04-27T20:26:40.386Z"
   },
   {
    "duration": 17,
    "start_time": "2022-04-27T20:26:40.411Z"
   },
   {
    "duration": 36,
    "start_time": "2022-04-27T20:26:40.431Z"
   },
   {
    "duration": 872,
    "start_time": "2022-04-27T20:26:40.469Z"
   },
   {
    "duration": 1441,
    "start_time": "2022-05-02T12:20:18.694Z"
   },
   {
    "duration": 14,
    "start_time": "2022-05-02T12:20:20.137Z"
   },
   {
    "duration": 13,
    "start_time": "2022-05-02T12:20:20.153Z"
   },
   {
    "duration": 11,
    "start_time": "2022-05-02T12:20:20.167Z"
   },
   {
    "duration": 23,
    "start_time": "2022-05-02T12:20:20.180Z"
   },
   {
    "duration": 13088,
    "start_time": "2022-05-02T12:20:25.564Z"
   },
   {
    "duration": 659,
    "start_time": "2022-05-02T12:20:40.097Z"
   },
   {
    "duration": 672,
    "start_time": "2022-05-02T12:26:28.790Z"
   },
   {
    "duration": 670,
    "start_time": "2022-05-02T12:26:35.823Z"
   },
   {
    "duration": 7,
    "start_time": "2022-05-02T12:28:10.408Z"
   },
   {
    "duration": 32317,
    "start_time": "2022-05-02T12:42:42.172Z"
   },
   {
    "duration": 487,
    "start_time": "2022-05-02T12:43:15.328Z"
   },
   {
    "duration": 689,
    "start_time": "2022-05-02T12:44:05.475Z"
   },
   {
    "duration": 5,
    "start_time": "2022-05-02T12:53:27.041Z"
   },
   {
    "duration": 8,
    "start_time": "2022-05-02T12:53:46.265Z"
   },
   {
    "duration": 13,
    "start_time": "2022-05-02T12:53:52.254Z"
   },
   {
    "duration": 13,
    "start_time": "2022-05-02T12:53:55.705Z"
   },
   {
    "duration": 10,
    "start_time": "2022-05-02T14:21:10.439Z"
   },
   {
    "duration": 8,
    "start_time": "2022-05-02T14:21:20.173Z"
   },
   {
    "duration": 3,
    "start_time": "2022-05-02T14:21:33.402Z"
   },
   {
    "duration": 8,
    "start_time": "2022-05-02T14:21:57.937Z"
   },
   {
    "duration": 9,
    "start_time": "2022-05-02T14:22:03.285Z"
   },
   {
    "duration": 3,
    "start_time": "2022-05-02T14:22:17.186Z"
   },
   {
    "duration": 4,
    "start_time": "2022-05-02T14:22:21.651Z"
   },
   {
    "duration": 9,
    "start_time": "2022-05-02T14:22:56.628Z"
   },
   {
    "duration": 3,
    "start_time": "2022-05-02T14:23:03.407Z"
   },
   {
    "duration": 3,
    "start_time": "2022-05-02T14:23:20.452Z"
   },
   {
    "duration": 22,
    "start_time": "2022-05-02T14:24:52.203Z"
   },
   {
    "duration": 3,
    "start_time": "2022-05-02T14:25:11.031Z"
   },
   {
    "duration": 16,
    "start_time": "2022-05-02T14:25:11.035Z"
   },
   {
    "duration": 8,
    "start_time": "2022-05-02T14:25:11.053Z"
   },
   {
    "duration": 34,
    "start_time": "2022-05-02T14:25:11.063Z"
   },
   {
    "duration": 25,
    "start_time": "2022-05-02T14:25:11.099Z"
   },
   {
    "duration": 797,
    "start_time": "2022-05-02T14:25:11.126Z"
   },
   {
    "duration": 5,
    "start_time": "2022-05-02T14:25:11.924Z"
   },
   {
    "duration": 21,
    "start_time": "2022-05-02T14:25:11.931Z"
   },
   {
    "duration": 5,
    "start_time": "2022-05-02T14:25:11.953Z"
   },
   {
    "duration": 23,
    "start_time": "2022-05-02T14:25:11.960Z"
   },
   {
    "duration": 23,
    "start_time": "2022-05-02T14:25:11.985Z"
   },
   {
    "duration": 6,
    "start_time": "2022-05-02T14:26:32.035Z"
   },
   {
    "duration": 11,
    "start_time": "2022-05-02T14:26:41.792Z"
   },
   {
    "duration": 4,
    "start_time": "2022-05-02T14:27:15.503Z"
   },
   {
    "duration": 3,
    "start_time": "2022-05-02T14:31:32.647Z"
   },
   {
    "duration": 5,
    "start_time": "2022-05-02T14:33:16.953Z"
   },
   {
    "duration": 3,
    "start_time": "2022-05-02T14:33:30.261Z"
   },
   {
    "duration": 4,
    "start_time": "2022-05-02T14:33:38.992Z"
   },
   {
    "duration": 3,
    "start_time": "2022-05-02T14:35:45.916Z"
   },
   {
    "duration": 9,
    "start_time": "2022-05-02T14:36:38.487Z"
   },
   {
    "duration": 3,
    "start_time": "2022-05-02T14:38:53.201Z"
   },
   {
    "duration": 4,
    "start_time": "2022-05-02T14:38:55.111Z"
   },
   {
    "duration": 6,
    "start_time": "2022-05-02T14:39:01.828Z"
   },
   {
    "duration": 8,
    "start_time": "2022-05-02T14:39:04.844Z"
   },
   {
    "duration": 4,
    "start_time": "2022-05-02T14:39:19.487Z"
   },
   {
    "duration": 4,
    "start_time": "2022-05-02T14:39:37.305Z"
   },
   {
    "duration": 3,
    "start_time": "2022-05-02T14:40:14.662Z"
   },
   {
    "duration": 4,
    "start_time": "2022-05-02T14:40:54.036Z"
   },
   {
    "duration": 5,
    "start_time": "2022-05-02T14:41:26.530Z"
   },
   {
    "duration": 1675,
    "start_time": "2022-05-03T21:15:00.608Z"
   },
   {
    "duration": 14,
    "start_time": "2022-05-03T21:15:02.285Z"
   },
   {
    "duration": 14,
    "start_time": "2022-05-03T21:15:02.300Z"
   },
   {
    "duration": 12,
    "start_time": "2022-05-03T21:15:02.316Z"
   },
   {
    "duration": 23,
    "start_time": "2022-05-03T21:15:02.329Z"
   },
   {
    "duration": 814,
    "start_time": "2022-05-03T21:15:02.354Z"
   },
   {
    "duration": 7,
    "start_time": "2022-05-03T21:15:03.169Z"
   },
   {
    "duration": 11,
    "start_time": "2022-05-03T21:15:03.178Z"
   },
   {
    "duration": 6,
    "start_time": "2022-05-03T21:15:03.191Z"
   },
   {
    "duration": 5,
    "start_time": "2022-05-03T21:15:03.208Z"
   },
   {
    "duration": 8,
    "start_time": "2022-05-03T21:15:03.214Z"
   },
   {
    "duration": 13,
    "start_time": "2022-05-03T21:15:03.224Z"
   },
   {
    "duration": 11,
    "start_time": "2022-05-03T21:15:03.239Z"
   },
   {
    "duration": 5,
    "start_time": "2022-05-03T21:15:03.251Z"
   },
   {
    "duration": 20,
    "start_time": "2022-05-03T21:15:03.258Z"
   },
   {
    "duration": 7,
    "start_time": "2022-05-03T21:15:03.280Z"
   },
   {
    "duration": 3,
    "start_time": "2022-05-03T21:43:50.594Z"
   },
   {
    "duration": 1424,
    "start_time": "2022-05-03T21:44:29.690Z"
   },
   {
    "duration": 14,
    "start_time": "2022-05-03T21:44:31.116Z"
   },
   {
    "duration": 19,
    "start_time": "2022-05-03T21:44:31.131Z"
   },
   {
    "duration": 16,
    "start_time": "2022-05-03T21:44:31.153Z"
   },
   {
    "duration": 33,
    "start_time": "2022-05-03T21:44:31.170Z"
   },
   {
    "duration": 809,
    "start_time": "2022-05-03T21:44:31.204Z"
   },
   {
    "duration": 8,
    "start_time": "2022-05-03T21:44:32.014Z"
   },
   {
    "duration": 3,
    "start_time": "2022-05-03T21:44:32.023Z"
   },
   {
    "duration": 8,
    "start_time": "2022-05-03T21:44:32.027Z"
   },
   {
    "duration": 14,
    "start_time": "2022-05-03T21:44:32.038Z"
   },
   {
    "duration": 136,
    "start_time": "2022-05-03T21:44:32.054Z"
   },
   {
    "duration": 0,
    "start_time": "2022-05-03T21:44:32.192Z"
   },
   {
    "duration": 0,
    "start_time": "2022-05-03T21:44:32.194Z"
   },
   {
    "duration": 0,
    "start_time": "2022-05-03T21:44:32.195Z"
   },
   {
    "duration": 0,
    "start_time": "2022-05-03T21:44:32.207Z"
   },
   {
    "duration": 0,
    "start_time": "2022-05-03T21:44:32.209Z"
   },
   {
    "duration": 0,
    "start_time": "2022-05-03T21:44:32.210Z"
   },
   {
    "duration": 10,
    "start_time": "2022-05-03T21:44:54.658Z"
   },
   {
    "duration": 3,
    "start_time": "2022-05-03T21:44:56.507Z"
   },
   {
    "duration": 6,
    "start_time": "2022-05-03T21:44:58.033Z"
   },
   {
    "duration": 5,
    "start_time": "2022-05-03T21:45:04.614Z"
   },
   {
    "duration": 3,
    "start_time": "2022-05-03T21:45:06.942Z"
   },
   {
    "duration": 5,
    "start_time": "2022-05-03T21:45:09.910Z"
   },
   {
    "duration": 7,
    "start_time": "2022-05-03T21:45:14.309Z"
   },
   {
    "duration": 7,
    "start_time": "2022-05-03T21:46:02.859Z"
   },
   {
    "duration": 6,
    "start_time": "2022-05-03T21:46:05.979Z"
   },
   {
    "duration": 4,
    "start_time": "2022-05-03T21:52:49.169Z"
   },
   {
    "duration": 7,
    "start_time": "2022-05-03T21:53:04.878Z"
   },
   {
    "duration": 14,
    "start_time": "2022-05-03T21:53:39.934Z"
   },
   {
    "duration": 4,
    "start_time": "2022-05-03T21:54:07.427Z"
   },
   {
    "duration": 7,
    "start_time": "2022-05-03T21:54:10.068Z"
   },
   {
    "duration": 15,
    "start_time": "2022-05-03T21:54:12.260Z"
   },
   {
    "duration": 4,
    "start_time": "2022-05-03T21:54:54.059Z"
   },
   {
    "duration": 8,
    "start_time": "2022-05-03T21:54:56.562Z"
   },
   {
    "duration": 5,
    "start_time": "2022-05-03T21:56:12.045Z"
   },
   {
    "duration": 16,
    "start_time": "2022-05-03T21:56:15.341Z"
   },
   {
    "duration": 5,
    "start_time": "2022-05-03T21:57:00.611Z"
   },
   {
    "duration": 21,
    "start_time": "2022-05-03T21:57:03.113Z"
   },
   {
    "duration": 19,
    "start_time": "2022-05-03T21:57:39.536Z"
   },
   {
    "duration": 4,
    "start_time": "2022-05-03T21:57:47.762Z"
   },
   {
    "duration": 7,
    "start_time": "2022-05-03T21:57:49.976Z"
   },
   {
    "duration": 96,
    "start_time": "2022-05-03T21:59:06.206Z"
   },
   {
    "duration": 4,
    "start_time": "2022-05-03T21:59:27.411Z"
   },
   {
    "duration": 7,
    "start_time": "2022-05-03T21:59:31.433Z"
   },
   {
    "duration": 1492,
    "start_time": "2022-05-03T22:00:18.419Z"
   },
   {
    "duration": 15,
    "start_time": "2022-05-03T22:00:19.915Z"
   },
   {
    "duration": 14,
    "start_time": "2022-05-03T22:00:19.932Z"
   },
   {
    "duration": 11,
    "start_time": "2022-05-03T22:00:19.947Z"
   },
   {
    "duration": 23,
    "start_time": "2022-05-03T22:00:19.961Z"
   },
   {
    "duration": 938,
    "start_time": "2022-05-03T22:00:19.986Z"
   },
   {
    "duration": 8,
    "start_time": "2022-05-03T22:00:20.926Z"
   },
   {
    "duration": 4,
    "start_time": "2022-05-03T22:00:20.935Z"
   },
   {
    "duration": 10,
    "start_time": "2022-05-03T22:00:20.941Z"
   },
   {
    "duration": 17,
    "start_time": "2022-05-03T22:00:20.953Z"
   },
   {
    "duration": 8,
    "start_time": "2022-05-03T22:00:20.971Z"
   },
   {
    "duration": 27,
    "start_time": "2022-05-03T22:00:20.981Z"
   },
   {
    "duration": 12,
    "start_time": "2022-05-03T22:00:21.010Z"
   },
   {
    "duration": 4,
    "start_time": "2022-05-03T22:00:21.026Z"
   },
   {
    "duration": 14,
    "start_time": "2022-05-03T22:00:21.033Z"
   },
   {
    "duration": 4,
    "start_time": "2022-05-03T22:00:21.049Z"
   },
   {
    "duration": 4,
    "start_time": "2022-05-03T22:00:21.055Z"
   },
   {
    "duration": 8,
    "start_time": "2022-05-03T22:00:21.060Z"
   },
   {
    "duration": 43,
    "start_time": "2022-05-03T22:00:21.070Z"
   },
   {
    "duration": 117,
    "start_time": "2022-05-03T22:26:14.583Z"
   },
   {
    "duration": 206,
    "start_time": "2022-05-03T22:26:32.447Z"
   },
   {
    "duration": 4,
    "start_time": "2022-05-03T22:26:48.858Z"
   },
   {
    "duration": 26,
    "start_time": "2022-05-03T22:26:52.011Z"
   },
   {
    "duration": 93,
    "start_time": "2022-05-03T22:35:52.407Z"
   },
   {
    "duration": 5,
    "start_time": "2022-05-03T22:37:42.582Z"
   },
   {
    "duration": 21,
    "start_time": "2022-05-03T22:37:48.254Z"
   },
   {
    "duration": 5,
    "start_time": "2022-05-03T22:38:39.284Z"
   },
   {
    "duration": 22,
    "start_time": "2022-05-03T22:38:42.620Z"
   },
   {
    "duration": 5,
    "start_time": "2022-05-03T22:40:59.541Z"
   },
   {
    "duration": 21,
    "start_time": "2022-05-03T22:41:02.956Z"
   },
   {
    "duration": 5,
    "start_time": "2022-05-03T23:37:10.301Z"
   },
   {
    "duration": 14,
    "start_time": "2022-05-03T23:37:26.616Z"
   },
   {
    "duration": 22,
    "start_time": "2022-05-03T23:38:28.655Z"
   },
   {
    "duration": 354,
    "start_time": "2022-05-03T23:39:38.076Z"
   },
   {
    "duration": 31,
    "start_time": "2022-05-03T23:39:42.642Z"
   },
   {
    "duration": 5,
    "start_time": "2022-05-03T23:39:54.265Z"
   },
   {
    "duration": 32,
    "start_time": "2022-05-03T23:40:12.931Z"
   },
   {
    "duration": 7,
    "start_time": "2022-05-03T23:40:20.853Z"
   },
   {
    "duration": 30,
    "start_time": "2022-05-03T23:40:25.026Z"
   },
   {
    "duration": 12,
    "start_time": "2022-05-03T23:41:11.102Z"
   },
   {
    "duration": 13,
    "start_time": "2022-05-03T23:42:29.811Z"
   },
   {
    "duration": 12,
    "start_time": "2022-05-03T23:42:35.859Z"
   },
   {
    "duration": 13,
    "start_time": "2022-05-03T23:42:54.633Z"
   },
   {
    "duration": 14,
    "start_time": "2022-05-03T23:43:04.614Z"
   },
   {
    "duration": 5,
    "start_time": "2022-05-03T23:43:19.781Z"
   },
   {
    "duration": 30,
    "start_time": "2022-05-03T23:43:27.040Z"
   },
   {
    "duration": 13,
    "start_time": "2022-05-03T23:43:55.752Z"
   },
   {
    "duration": 22,
    "start_time": "2022-05-03T23:44:03.803Z"
   },
   {
    "duration": 21,
    "start_time": "2022-05-03T23:48:31.144Z"
   },
   {
    "duration": 13,
    "start_time": "2022-05-03T23:48:34.069Z"
   },
   {
    "duration": 1321,
    "start_time": "2022-05-03T23:49:36.156Z"
   },
   {
    "duration": 12,
    "start_time": "2022-05-03T23:49:37.479Z"
   },
   {
    "duration": 13,
    "start_time": "2022-05-03T23:49:37.493Z"
   },
   {
    "duration": 11,
    "start_time": "2022-05-03T23:49:37.508Z"
   },
   {
    "duration": 26,
    "start_time": "2022-05-03T23:49:37.520Z"
   },
   {
    "duration": 787,
    "start_time": "2022-05-03T23:49:37.548Z"
   },
   {
    "duration": 8,
    "start_time": "2022-05-03T23:49:38.336Z"
   },
   {
    "duration": 5,
    "start_time": "2022-05-03T23:49:38.345Z"
   },
   {
    "duration": 8,
    "start_time": "2022-05-03T23:49:38.352Z"
   },
   {
    "duration": 21,
    "start_time": "2022-05-03T23:49:38.362Z"
   },
   {
    "duration": 44,
    "start_time": "2022-05-03T23:49:38.385Z"
   },
   {
    "duration": 3710,
    "start_time": "2022-05-04T20:31:52.386Z"
   },
   {
    "duration": 18,
    "start_time": "2022-05-04T20:31:56.100Z"
   },
   {
    "duration": 23,
    "start_time": "2022-05-04T20:31:56.121Z"
   },
   {
    "duration": 41,
    "start_time": "2022-05-04T20:31:56.147Z"
   },
   {
    "duration": 54,
    "start_time": "2022-05-04T20:31:56.192Z"
   },
   {
    "duration": 1819,
    "start_time": "2022-05-04T20:31:56.248Z"
   },
   {
    "duration": 24,
    "start_time": "2022-05-04T20:31:58.070Z"
   },
   {
    "duration": 1250,
    "start_time": "2022-05-04T20:32:31.357Z"
   },
   {
    "duration": 936,
    "start_time": "2022-05-04T20:32:46.715Z"
   },
   {
    "duration": 899,
    "start_time": "2022-05-04T20:33:11.487Z"
   },
   {
    "duration": 657,
    "start_time": "2022-05-04T20:33:28.708Z"
   },
   {
    "duration": 618,
    "start_time": "2022-05-04T20:33:42.126Z"
   },
   {
    "duration": 871,
    "start_time": "2022-05-04T20:35:21.705Z"
   },
   {
    "duration": 764,
    "start_time": "2022-05-04T20:35:27.320Z"
   },
   {
    "duration": 878,
    "start_time": "2022-05-04T20:35:34.102Z"
   },
   {
    "duration": 816,
    "start_time": "2022-05-04T20:35:39.368Z"
   },
   {
    "duration": 694,
    "start_time": "2022-05-04T20:35:52.311Z"
   },
   {
    "duration": 885,
    "start_time": "2022-05-04T20:36:03.027Z"
   },
   {
    "duration": 655,
    "start_time": "2022-05-04T20:37:43.068Z"
   },
   {
    "duration": 502,
    "start_time": "2022-05-04T20:39:35.266Z"
   },
   {
    "duration": 835,
    "start_time": "2022-05-04T20:39:49.301Z"
   },
   {
    "duration": 360,
    "start_time": "2022-05-04T20:40:21.157Z"
   },
   {
    "duration": 573,
    "start_time": "2022-05-04T20:40:29.029Z"
   },
   {
    "duration": 556,
    "start_time": "2022-05-04T20:42:00.221Z"
   },
   {
    "duration": 18,
    "start_time": "2022-05-04T20:44:13.935Z"
   },
   {
    "duration": 766,
    "start_time": "2022-05-04T20:44:21.523Z"
   },
   {
    "duration": 800,
    "start_time": "2022-05-04T20:44:44.595Z"
   },
   {
    "duration": 821,
    "start_time": "2022-05-04T20:44:51.278Z"
   },
   {
    "duration": 938,
    "start_time": "2022-05-04T20:44:57.776Z"
   },
   {
    "duration": 895,
    "start_time": "2022-05-04T20:45:03.541Z"
   },
   {
    "duration": 640,
    "start_time": "2022-05-04T20:45:10.813Z"
   },
   {
    "duration": 545,
    "start_time": "2022-05-04T20:45:16.854Z"
   },
   {
    "duration": 545,
    "start_time": "2022-05-04T20:45:23.397Z"
   },
   {
    "duration": 585,
    "start_time": "2022-05-04T20:45:38.117Z"
   },
   {
    "duration": 775,
    "start_time": "2022-05-04T20:45:45.175Z"
   },
   {
    "duration": 704,
    "start_time": "2022-05-04T20:45:53.294Z"
   },
   {
    "duration": 561,
    "start_time": "2022-05-04T20:45:58.387Z"
   },
   {
    "duration": 603,
    "start_time": "2022-05-04T20:46:03.327Z"
   },
   {
    "duration": 587,
    "start_time": "2022-05-04T20:46:10.825Z"
   },
   {
    "duration": 694,
    "start_time": "2022-05-04T20:46:38.093Z"
   },
   {
    "duration": 692,
    "start_time": "2022-05-04T20:46:43.756Z"
   },
   {
    "duration": 734,
    "start_time": "2022-05-04T20:46:51.675Z"
   },
   {
    "duration": 552,
    "start_time": "2022-05-04T20:46:56.766Z"
   },
   {
    "duration": 597,
    "start_time": "2022-05-04T20:47:01.510Z"
   },
   {
    "duration": 556,
    "start_time": "2022-05-04T20:47:07.859Z"
   },
   {
    "duration": 727,
    "start_time": "2022-05-04T20:47:13.491Z"
   },
   {
    "duration": 567,
    "start_time": "2022-05-04T20:47:19.448Z"
   },
   {
    "duration": 542,
    "start_time": "2022-05-04T20:47:28.394Z"
   },
   {
    "duration": 551,
    "start_time": "2022-05-04T20:47:37.636Z"
   },
   {
    "duration": 544,
    "start_time": "2022-05-04T20:47:42.859Z"
   },
   {
    "duration": 511,
    "start_time": "2022-05-04T20:48:46.816Z"
   },
   {
    "duration": 7,
    "start_time": "2022-05-04T20:49:08.253Z"
   },
   {
    "duration": 616,
    "start_time": "2022-05-04T20:49:12.790Z"
   },
   {
    "duration": 588,
    "start_time": "2022-05-04T20:49:42.901Z"
   },
   {
    "duration": 754,
    "start_time": "2022-05-04T20:50:27.581Z"
   },
   {
    "duration": 607,
    "start_time": "2022-05-04T20:50:42.325Z"
   },
   {
    "duration": 539,
    "start_time": "2022-05-04T20:50:51.592Z"
   },
   {
    "duration": 567,
    "start_time": "2022-05-04T20:51:18.336Z"
   },
   {
    "duration": 39,
    "start_time": "2022-05-04T20:51:38.719Z"
   },
   {
    "duration": 58,
    "start_time": "2022-05-04T20:51:46.155Z"
   },
   {
    "duration": 55,
    "start_time": "2022-05-04T20:51:54.206Z"
   },
   {
    "duration": 598,
    "start_time": "2022-05-04T20:51:59.868Z"
   },
   {
    "duration": 123,
    "start_time": "2022-05-06T21:00:23.401Z"
   },
   {
    "duration": 41,
    "start_time": "2022-05-06T21:07:38.106Z"
   }
  ],
  "kernelspec": {
   "display_name": "Python 3 (ipykernel)",
   "language": "python",
   "name": "python3"
  },
  "language_info": {
   "codemirror_mode": {
    "name": "ipython",
    "version": 3
   },
   "file_extension": ".py",
   "mimetype": "text/x-python",
   "name": "python",
   "nbconvert_exporter": "python",
   "pygments_lexer": "ipython3",
   "version": "3.9.7"
  },
  "toc": {
   "base_numbering": 1,
   "nav_menu": {},
   "number_sections": true,
   "sideBar": true,
   "skip_h1_title": true,
   "title_cell": "Содержание",
   "title_sidebar": "Contents",
   "toc_cell": true,
   "toc_position": {},
   "toc_section_display": true,
   "toc_window_display": true
  }
 },
 "nbformat": 4,
 "nbformat_minor": 2
}
